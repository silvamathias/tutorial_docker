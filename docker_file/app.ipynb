{
 "cells": [
  {
   "cell_type": "code",
   "execution_count": 2,
   "metadata": {},
   "outputs": [],
   "source": [
    "import brazilian_register as br"
   ]
  },
  {
   "cell_type": "code",
   "execution_count": 46,
   "metadata": {},
   "outputs": [],
   "source": [
    "def decorador(func):\n",
    "    def validacao(tipo,doc):\n",
    "        f = func(tipo,doc)\n",
    "        if f == False:\n",
    "           return print('O documento {} informado é inválido'.format(doc))\n",
    "        \n",
    "        elif f == True:           \n",
    "           return print('O documento {} informado é válido'.format(doc))\n",
    "    \n",
    "    return validacao"
   ]
  },
  {
   "cell_type": "code",
   "execution_count": 47,
   "metadata": {},
   "outputs": [],
   "source": [
    "@decorador\n",
    "def valida_doc(tipo, doc):\n",
    "    \n",
    "    if tipo == '0':\n",
    "        r = br.cpf(doc)\n",
    "\n",
    "        return r.cpf_status()\n",
    "    \n",
    "    elif tipo == '1':\n",
    "        r = br.cnpj(doc)\n",
    "\n",
    "        return r.cnpj_status()\n"
   ]
  },
  {
   "cell_type": "code",
   "execution_count": 20,
   "metadata": {},
   "outputs": [
    {
     "name": "stdout",
     "output_type": "stream",
     "text": [
      "True\n"
     ]
    }
   ],
   "source": [
    "t = br.cpf('05647684726')\n",
    "\n",
    "d = t.cpf_status()\n",
    "\n",
    "print(d)"
   ]
  },
  {
   "cell_type": "code",
   "execution_count": 48,
   "metadata": {},
   "outputs": [
    {
     "name": "stdout",
     "output_type": "stream",
     "text": [
      "O documento 25668478512 informado é inválido\n"
     ]
    }
   ],
   "source": [
    "tipo = input('digite 0 para CPF e 1 para CNPJ:')\n",
    "\n",
    "doc = input('digite documento:')\n",
    "\n",
    "d = valida_doc(tipo, doc)\n",
    "d"
   ]
  }
 ],
 "metadata": {
  "kernelspec": {
   "display_name": "Python 3",
   "language": "python",
   "name": "python3"
  },
  "language_info": {
   "codemirror_mode": {
    "name": "ipython",
    "version": 3
   },
   "file_extension": ".py",
   "mimetype": "text/x-python",
   "name": "python",
   "nbconvert_exporter": "python",
   "pygments_lexer": "ipython3",
   "version": "3.12.3"
  },
  "orig_nbformat": 4
 },
 "nbformat": 4,
 "nbformat_minor": 2
}
