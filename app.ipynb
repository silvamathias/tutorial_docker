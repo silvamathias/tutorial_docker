{
 "cells": [
  {
   "cell_type": "code",
   "execution_count": null,
   "metadata": {},
   "outputs": [],
   "source": [
    "import brazilian_register as br"
   ]
  },
  {
   "cell_type": "code",
   "execution_count": null,
   "metadata": {},
   "outputs": [],
   "source": [
    "def decorador(func):\n",
    "    def validacao(tipo,doc):\n",
    "        f = func(tipo,doc)\n",
    "\n",
    "        if f == False:\n",
    "           return print('O documento {} informado é inválido'.format(doc))\n",
    "        \n",
    "        else:           \n",
    "           return print('O documento {} informado é válido'.format(doc))\n",
    "    \n",
    "    return validacao"
   ]
  },
  {
   "cell_type": "code",
   "execution_count": null,
   "metadata": {},
   "outputs": [],
   "source": [
    "@decorador\n",
    "def valida_doc(tipo, doc):\n",
    "    \n",
    "    if tipo == 0:\n",
    "        r = br.cpf(doc)\n",
    "\n",
    "        return r.cpf_status()\n",
    "    \n",
    "    elif tipo == 1:\n",
    "        r = br.cnpj(doc)\n",
    "\n",
    "        return r.cnpj_status()\n"
   ]
  },
  {
   "cell_type": "code",
   "execution_count": null,
   "metadata": {},
   "outputs": [],
   "source": [
    "tipo = input('digite 0 para CPF e 1 para CNPJ:')\n",
    "\n",
    "doc = input('digite documento:')\n",
    "\n",
    "d = valida_doc(tipo, doc)\n",
    "d"
   ]
  }
 ],
 "metadata": {
  "language_info": {
   "name": "python"
  },
  "orig_nbformat": 4
 },
 "nbformat": 4,
 "nbformat_minor": 2
}
